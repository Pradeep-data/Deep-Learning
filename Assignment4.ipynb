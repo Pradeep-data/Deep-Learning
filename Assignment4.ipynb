{
  "nbformat": 4,
  "nbformat_minor": 0,
  "metadata": {
    "colab": {
      "name": "Assignment4.ipynb",
      "provenance": [],
      "collapsed_sections": []
    },
    "kernelspec": {
      "name": "python3",
      "display_name": "Python 3"
    }
  },
  "cells": [
    {
      "cell_type": "code",
      "metadata": {
        "id": "yDaOZf0qRl72",
        "colab_type": "code",
        "colab": {
          "base_uri": "https://localhost:8080/",
          "height": 34
        },
        "outputId": "bc9be175-7dfe-42ce-9fad-d580166092ad"
      },
      "source": [
        "#importing libraries\n",
        "import keras\n",
        "from keras.models import Sequential\n",
        "from keras.layers import Dense,Flatten,Conv2D,MaxPooling2D\n",
        "from keras.callbacks import ModelCheckpoint,EarlyStopping,ReduceLROnPlateau\n",
        "\n",
        "#implementation\n",
        "model=Sequential()"
      ],
      "execution_count": 2,
      "outputs": [
        {
          "output_type": "stream",
          "text": [
            "Using TensorFlow backend.\n"
          ],
          "name": "stderr"
        }
      ]
    },
    {
      "cell_type": "code",
      "metadata": {
        "id": "HtFVpJ_JT_xD",
        "colab_type": "code",
        "colab": {}
      },
      "source": [
        "#1st convolution layer\n",
        "model.add(Conv2D(32, (3, 3), input_shape = (64, 64, 3), activation = 'relu'))\n",
        "model.add(MaxPooling2D(pool_size = (2, 2)))\n",
        "\n",
        "#2nd Convolution layer\n",
        "model.add(Conv2D(32, (3, 3), activation = 'relu'))\n",
        "model.add(MaxPooling2D(pool_size = (2, 2)))\n",
        "\n",
        "##rd Convolution layer\n",
        "model.add(Conv2D(64, (3, 3), activation = 'relu'))\n",
        "model.add(MaxPooling2D(pool_size = (2, 2)))\n",
        "\n",
        "# The fourth convolution\n",
        "model.add(Conv2D(64, (3,3), activation='relu'))\n",
        "model.add(MaxPooling2D(pool_size =(2,2)))\n",
        "\n",
        "model.add(Flatten())\n",
        "\n",
        "#  Full Connection\n",
        "model.add(Dense(units = 128, activation = 'relu'))\n",
        "model.add(Dense(units = 3, activation = 'softmax'))"
      ],
      "execution_count": 3,
      "outputs": []
    },
    {
      "cell_type": "code",
      "metadata": {
        "id": "dfZgNMk_U7Y8",
        "colab_type": "code",
        "colab": {
          "base_uri": "https://localhost:8080/",
          "height": 51
        },
        "outputId": "a16eec12-0324-4182-dd12-45d9e788c3a3"
      },
      "source": [
        "#Fitting the CNN to the images \n",
        "#as the folder has augmented image too,so we are not use augmentation here in keras image genertor\n",
        "from keras.preprocessing.image import ImageDataGenerator\n",
        "train_datagen = ImageDataGenerator(rescale=1./255)\n",
        "\n",
        "test_datagen = ImageDataGenerator(rescale=1./255)\n",
        "\n",
        "training_set = train_datagen.flow_from_directory('drive/My Drive/Neural Networks/CNN Apparels/training_set',\n",
        "                                                 target_size=(64,64),\n",
        "                                                 batch_size=32,\n",
        "                                                 class_mode='categorical')\n",
        "\n",
        "test_set = test_datagen.flow_from_directory('drive/My Drive/Neural Networks/CNN Apparels/test_set',\n",
        "                                            target_size=(64,64),\n",
        "                                            batch_size=32,\n",
        "                                            class_mode='categorical')"
      ],
      "execution_count": 4,
      "outputs": [
        {
          "output_type": "stream",
          "text": [
            "Found 210 images belonging to 3 classes.\n",
            "Found 60 images belonging to 3 classes.\n"
          ],
          "name": "stdout"
        }
      ]
    },
    {
      "cell_type": "code",
      "metadata": {
        "id": "RA0h39LWVhRP",
        "colab_type": "code",
        "colab": {}
      },
      "source": [
        "checkpoint=ModelCheckpoint(r\"drive/My Drive/Neural Networks/CNN Apparels/asign4_checkpoint.h5\",\n",
        "                           monitor='val_loss',\n",
        "                           mode='min',save_best_only=True,\n",
        "                           verbose=1)\n",
        "\n",
        "earlystop=EarlyStopping(monitor='val_loss',\n",
        "                        min_delta=0,\n",
        "                        patience=3,\n",
        "                        restore_best_weights=True)\n",
        "\n",
        "reduce=ReduceLROnPlateau(monitor='val_loss',\n",
        "                         factor=0.2,\n",
        "                         patience=3,min_delta=0.001)\n",
        "callbacks=[checkpoint,earlystop,reduce]"
      ],
      "execution_count": 5,
      "outputs": []
    },
    {
      "cell_type": "code",
      "metadata": {
        "id": "mJ1ATngxa1QQ",
        "colab_type": "code",
        "colab": {}
      },
      "source": [
        "batch_size = 32    \n",
        "epochs = 20\n",
        "nb_train_samples=200\n",
        "nb_validation_samples=60"
      ],
      "execution_count": 6,
      "outputs": []
    },
    {
      "cell_type": "markdown",
      "metadata": {
        "id": "tZpBMYP0kf9d",
        "colab_type": "text"
      },
      "source": [
        "SGD with Learning rate=0.1 and momentum=0.5"
      ]
    },
    {
      "cell_type": "code",
      "metadata": {
        "id": "9uPfSRVYceS9",
        "colab_type": "code",
        "colab": {
          "base_uri": "https://localhost:8080/",
          "height": 561
        },
        "outputId": "6b3e79e5-7020-4403-89e4-da3b0b8700c7"
      },
      "source": [
        "#compile\n",
        "opt=keras.optimizers.SGD(lr=0.1,momentum=0.5)\n",
        "model.compile(optimizer = opt, loss = 'categorical_crossentropy', metrics = ['accuracy'])\n",
        "\n",
        "history=model.fit_generator(\n",
        "    training_set,\n",
        "    steps_per_epoch=nb_train_samples//batch_size,\n",
        "    epochs=epochs,\n",
        "    verbose=1,\n",
        "    callbacks=callbacks,\n",
        "    validation_data=test_set,\n",
        "    validation_steps=nb_validation_samples//batch_size)"
      ],
      "execution_count": 7,
      "outputs": [
        {
          "output_type": "stream",
          "text": [
            "Epoch 1/20\n",
            "6/6 [==============================] - 51s 8s/step - loss: 1.1010 - accuracy: 0.3483 - val_loss: 1.0851 - val_accuracy: 0.3438\n",
            "\n",
            "Epoch 00001: val_loss improved from inf to 1.08512, saving model to drive/My Drive/Neural Networks/CNN Apparels/asign4_checkpoint.h5\n",
            "Epoch 2/20\n",
            "6/6 [==============================] - 10s 2s/step - loss: 1.0767 - accuracy: 0.4213 - val_loss: 1.0457 - val_accuracy: 0.4286\n",
            "\n",
            "Epoch 00002: val_loss improved from 1.08512 to 1.04566, saving model to drive/My Drive/Neural Networks/CNN Apparels/asign4_checkpoint.h5\n",
            "Epoch 3/20\n",
            "6/6 [==============================] - 1s 243ms/step - loss: 1.0759 - accuracy: 0.4375 - val_loss: 1.0567 - val_accuracy: 0.3750\n",
            "\n",
            "Epoch 00003: val_loss did not improve from 1.04566\n",
            "Epoch 4/20\n",
            "6/6 [==============================] - 1s 206ms/step - loss: 1.0132 - accuracy: 0.5449 - val_loss: 1.0288 - val_accuracy: 0.4643\n",
            "\n",
            "Epoch 00004: val_loss improved from 1.04566 to 1.02883, saving model to drive/My Drive/Neural Networks/CNN Apparels/asign4_checkpoint.h5\n",
            "Epoch 5/20\n",
            "6/6 [==============================] - 1s 221ms/step - loss: 0.9993 - accuracy: 0.5787 - val_loss: 0.8473 - val_accuracy: 0.7500\n",
            "\n",
            "Epoch 00005: val_loss improved from 1.02883 to 0.84732, saving model to drive/My Drive/Neural Networks/CNN Apparels/asign4_checkpoint.h5\n",
            "Epoch 6/20\n",
            "6/6 [==============================] - 1s 203ms/step - loss: 0.9184 - accuracy: 0.5449 - val_loss: 0.9151 - val_accuracy: 0.5357\n",
            "\n",
            "Epoch 00006: val_loss did not improve from 0.84732\n",
            "Epoch 7/20\n",
            "6/6 [==============================] - 1s 219ms/step - loss: 1.1315 - accuracy: 0.4157 - val_loss: 1.0501 - val_accuracy: 0.4375\n",
            "\n",
            "Epoch 00007: val_loss did not improve from 0.84732\n",
            "Epoch 8/20\n",
            "6/6 [==============================] - 1s 202ms/step - loss: 1.0014 - accuracy: 0.5112 - val_loss: 0.8536 - val_accuracy: 0.5000\n",
            "\n",
            "Epoch 00008: val_loss did not improve from 0.84732\n"
          ],
          "name": "stdout"
        }
      ]
    },
    {
      "cell_type": "markdown",
      "metadata": {
        "id": "xLEgEoG0kWN_",
        "colab_type": "text"
      },
      "source": [
        "SGD with Learning rate=0.01 and momentum=0.7"
      ]
    },
    {
      "cell_type": "code",
      "metadata": {
        "id": "nG8suWUQhQty",
        "colab_type": "code",
        "colab": {
          "base_uri": "https://localhost:8080/",
          "height": 629
        },
        "outputId": "5ed973b0-167f-4d21-ec55-3fc838894835"
      },
      "source": [
        "#compile\n",
        "opt=keras.optimizers.SGD(lr=0.01,momentum=0.7)\n",
        "model.compile(optimizer = opt, loss = 'categorical_crossentropy', metrics = ['accuracy'])\n",
        "\n",
        "history=model.fit_generator(\n",
        "    training_set,\n",
        "    steps_per_epoch=nb_train_samples//batch_size,\n",
        "    epochs=epochs,\n",
        "    verbose=1,\n",
        "    callbacks=callbacks,\n",
        "    validation_data=test_set,\n",
        "    validation_steps=nb_validation_samples//batch_size)"
      ],
      "execution_count": 8,
      "outputs": [
        {
          "output_type": "stream",
          "text": [
            "Epoch 1/20\n",
            "6/6 [==============================] - 2s 255ms/step - loss: 0.8329 - accuracy: 0.7022 - val_loss: 0.8511 - val_accuracy: 0.7188\n",
            "\n",
            "Epoch 00001: val_loss did not improve from 0.84732\n",
            "Epoch 2/20\n",
            "6/6 [==============================] - 1s 207ms/step - loss: 0.7740 - accuracy: 0.6854 - val_loss: 0.7465 - val_accuracy: 0.7143\n",
            "\n",
            "Epoch 00002: val_loss improved from 0.84732 to 0.74649, saving model to drive/My Drive/Neural Networks/CNN Apparels/asign4_checkpoint.h5\n",
            "Epoch 3/20\n",
            "6/6 [==============================] - 1s 223ms/step - loss: 0.7234 - accuracy: 0.7022 - val_loss: 0.7478 - val_accuracy: 0.6875\n",
            "\n",
            "Epoch 00003: val_loss did not improve from 0.74649\n",
            "Epoch 4/20\n",
            "6/6 [==============================] - 1s 198ms/step - loss: 0.7330 - accuracy: 0.6685 - val_loss: 0.7088 - val_accuracy: 0.7143\n",
            "\n",
            "Epoch 00004: val_loss improved from 0.74649 to 0.70884, saving model to drive/My Drive/Neural Networks/CNN Apparels/asign4_checkpoint.h5\n",
            "Epoch 5/20\n",
            "6/6 [==============================] - 1s 226ms/step - loss: 0.6828 - accuracy: 0.7022 - val_loss: 0.7683 - val_accuracy: 0.6562\n",
            "\n",
            "Epoch 00005: val_loss did not improve from 0.70884\n",
            "Epoch 6/20\n",
            "6/6 [==============================] - 1s 217ms/step - loss: 0.6257 - accuracy: 0.7188 - val_loss: 0.5230 - val_accuracy: 0.7857\n",
            "\n",
            "Epoch 00006: val_loss improved from 0.70884 to 0.52296, saving model to drive/My Drive/Neural Networks/CNN Apparels/asign4_checkpoint.h5\n",
            "Epoch 7/20\n",
            "6/6 [==============================] - 1s 208ms/step - loss: 0.6111 - accuracy: 0.7303 - val_loss: 0.6884 - val_accuracy: 0.6562\n",
            "\n",
            "Epoch 00007: val_loss did not improve from 0.52296\n",
            "Epoch 8/20\n",
            "6/6 [==============================] - 1s 211ms/step - loss: 0.6059 - accuracy: 0.7303 - val_loss: 0.5955 - val_accuracy: 0.7857\n",
            "\n",
            "Epoch 00008: val_loss did not improve from 0.52296\n",
            "Epoch 9/20\n",
            "6/6 [==============================] - 1s 229ms/step - loss: 0.5356 - accuracy: 0.7584 - val_loss: 0.7648 - val_accuracy: 0.6875\n",
            "\n",
            "Epoch 00009: val_loss did not improve from 0.52296\n"
          ],
          "name": "stdout"
        }
      ]
    },
    {
      "cell_type": "markdown",
      "metadata": {
        "id": "Lz-CfQQGkKua",
        "colab_type": "text"
      },
      "source": [
        "SGD with Learning rate=0.001 and momentum=0.9"
      ]
    },
    {
      "cell_type": "code",
      "metadata": {
        "id": "GqHVryrJiMe4",
        "colab_type": "code",
        "colab": {
          "base_uri": "https://localhost:8080/",
          "height": 425
        },
        "outputId": "630d5ab4-7cf8-4422-f527-57647dec638e"
      },
      "source": [
        "#compile\n",
        "opt=keras.optimizers.SGD(lr=0.001,momentum=0.9)\n",
        "model.compile(optimizer = opt, loss = 'categorical_crossentropy', metrics = ['accuracy'])\n",
        "\n",
        "history=model.fit_generator(\n",
        "    training_set,\n",
        "    steps_per_epoch=nb_train_samples//batch_size,\n",
        "    epochs=epochs,\n",
        "    verbose=1,\n",
        "    callbacks=callbacks,\n",
        "    validation_data=test_set,\n",
        "    validation_steps=nb_validation_samples//batch_size)"
      ],
      "execution_count": 9,
      "outputs": [
        {
          "output_type": "stream",
          "text": [
            "Epoch 1/20\n",
            "6/6 [==============================] - 1s 241ms/step - loss: 0.6058 - accuracy: 0.7303 - val_loss: 0.6383 - val_accuracy: 0.6875\n",
            "\n",
            "Epoch 00001: val_loss did not improve from 0.52296\n",
            "Epoch 2/20\n",
            "6/6 [==============================] - 1s 220ms/step - loss: 0.5823 - accuracy: 0.7604 - val_loss: 0.6495 - val_accuracy: 0.7500\n",
            "\n",
            "Epoch 00002: val_loss did not improve from 0.52296\n",
            "Epoch 3/20\n",
            "6/6 [==============================] - 1s 205ms/step - loss: 0.6286 - accuracy: 0.7317 - val_loss: 0.6294 - val_accuracy: 0.7188\n",
            "\n",
            "Epoch 00003: val_loss did not improve from 0.52296\n",
            "Epoch 4/20\n",
            "6/6 [==============================] - 1s 216ms/step - loss: 0.5466 - accuracy: 0.7656 - val_loss: 0.6987 - val_accuracy: 0.6786\n",
            "\n",
            "Epoch 00004: val_loss did not improve from 0.52296\n",
            "Epoch 5/20\n",
            "6/6 [==============================] - 1s 203ms/step - loss: 0.5671 - accuracy: 0.7805 - val_loss: 0.6297 - val_accuracy: 0.7500\n",
            "\n",
            "Epoch 00005: val_loss did not improve from 0.52296\n",
            "Epoch 6/20\n",
            "6/6 [==============================] - 1s 194ms/step - loss: 0.5410 - accuracy: 0.7584 - val_loss: 0.7066 - val_accuracy: 0.6429\n",
            "\n",
            "Epoch 00006: val_loss did not improve from 0.52296\n"
          ],
          "name": "stdout"
        }
      ]
    },
    {
      "cell_type": "markdown",
      "metadata": {
        "id": "9B9LnGsvmcCq",
        "colab_type": "text"
      },
      "source": [
        "Nesterov Accelerated Gradient Descent using learning rate of 0.001"
      ]
    },
    {
      "cell_type": "code",
      "metadata": {
        "id": "QJ2dhNhkme_v",
        "colab_type": "code",
        "colab": {
          "base_uri": "https://localhost:8080/",
          "height": 425
        },
        "outputId": "9378e836-a74a-4518-c59d-dd2314872c2d"
      },
      "source": [
        "opt=keras.optimizers.SGD(lr=0.001,nesterov=True)\n",
        "model.compile(optimizer = opt, loss = 'categorical_crossentropy', metrics = ['accuracy'])\n",
        "\n",
        "history=model.fit_generator(\n",
        "    training_set,\n",
        "    steps_per_epoch=nb_train_samples//batch_size,\n",
        "    epochs=epochs,\n",
        "    verbose=1,\n",
        "    callbacks=callbacks,\n",
        "    validation_data=test_set,\n",
        "    validation_steps=nb_validation_samples//batch_size)"
      ],
      "execution_count": 10,
      "outputs": [
        {
          "output_type": "stream",
          "text": [
            "Epoch 1/20\n",
            "6/6 [==============================] - 1s 247ms/step - loss: 0.5608 - accuracy: 0.7697 - val_loss: 0.7019 - val_accuracy: 0.6875\n",
            "\n",
            "Epoch 00001: val_loss did not improve from 0.52296\n",
            "Epoch 2/20\n",
            "6/6 [==============================] - 1s 213ms/step - loss: 0.5534 - accuracy: 0.7978 - val_loss: 0.6098 - val_accuracy: 0.7143\n",
            "\n",
            "Epoch 00002: val_loss did not improve from 0.52296\n",
            "Epoch 3/20\n",
            "6/6 [==============================] - 1s 239ms/step - loss: 0.6247 - accuracy: 0.7135 - val_loss: 0.5203 - val_accuracy: 0.7812\n",
            "\n",
            "Epoch 00003: val_loss improved from 0.52296 to 0.52032, saving model to drive/My Drive/Neural Networks/CNN Apparels/asign4_checkpoint.h5\n",
            "Epoch 4/20\n",
            "6/6 [==============================] - 1s 202ms/step - loss: 0.5425 - accuracy: 0.7753 - val_loss: 0.8088 - val_accuracy: 0.6071\n",
            "\n",
            "Epoch 00004: val_loss did not improve from 0.52032\n",
            "Epoch 5/20\n",
            "6/6 [==============================] - 1s 207ms/step - loss: 0.5723 - accuracy: 0.7744 - val_loss: 0.7001 - val_accuracy: 0.6875\n",
            "\n",
            "Epoch 00005: val_loss did not improve from 0.52032\n",
            "Epoch 6/20\n",
            "6/6 [==============================] - 1s 224ms/step - loss: 0.5716 - accuracy: 0.7552 - val_loss: 0.6025 - val_accuracy: 0.7143\n",
            "\n",
            "Epoch 00006: val_loss did not improve from 0.52032\n"
          ],
          "name": "stdout"
        }
      ]
    },
    {
      "cell_type": "markdown",
      "metadata": {
        "id": "1wVKgA8DnlP1",
        "colab_type": "text"
      },
      "source": [
        "Nesterov Accelerated Gradient Descent using learning rate of 0.1"
      ]
    },
    {
      "cell_type": "code",
      "metadata": {
        "id": "dtxlAKd_nNMP",
        "colab_type": "code",
        "colab": {
          "base_uri": "https://localhost:8080/",
          "height": 697
        },
        "outputId": "eac4fd35-3e09-4c5d-d275-2065be0a1b45"
      },
      "source": [
        "opt=keras.optimizers.SGD(lr=0.1,nesterov=True)\n",
        "model.compile(optimizer = opt, loss = 'categorical_crossentropy', metrics = ['accuracy'])\n",
        "\n",
        "history=model.fit_generator(\n",
        "    training_set,\n",
        "    steps_per_epoch=nb_train_samples//batch_size,\n",
        "    epochs=epochs,\n",
        "    verbose=1,\n",
        "    callbacks=callbacks,\n",
        "    validation_data=test_set,\n",
        "    validation_steps=nb_validation_samples//batch_size)"
      ],
      "execution_count": 11,
      "outputs": [
        {
          "output_type": "stream",
          "text": [
            "Epoch 1/20\n",
            "6/6 [==============================] - 1s 248ms/step - loss: 0.8707 - accuracy: 0.6067 - val_loss: 0.8159 - val_accuracy: 0.6250\n",
            "\n",
            "Epoch 00001: val_loss did not improve from 0.52032\n",
            "Epoch 2/20\n",
            "6/6 [==============================] - 1s 209ms/step - loss: 0.8469 - accuracy: 0.5281 - val_loss: 0.8492 - val_accuracy: 0.5714\n",
            "\n",
            "Epoch 00002: val_loss did not improve from 0.52032\n",
            "Epoch 3/20\n",
            "6/6 [==============================] - 1s 238ms/step - loss: 0.7920 - accuracy: 0.6406 - val_loss: 0.6946 - val_accuracy: 0.7188\n",
            "\n",
            "Epoch 00003: val_loss did not improve from 0.52032\n",
            "Epoch 4/20\n",
            "6/6 [==============================] - 1s 187ms/step - loss: 0.6011 - accuracy: 0.7683 - val_loss: 0.5949 - val_accuracy: 0.6786\n",
            "\n",
            "Epoch 00004: val_loss did not improve from 0.52032\n",
            "Epoch 5/20\n",
            "6/6 [==============================] - 1s 218ms/step - loss: 0.6385 - accuracy: 0.7416 - val_loss: 0.6471 - val_accuracy: 0.6562\n",
            "\n",
            "Epoch 00005: val_loss did not improve from 0.52032\n",
            "Epoch 6/20\n",
            "6/6 [==============================] - 1s 212ms/step - loss: 0.5963 - accuracy: 0.7448 - val_loss: 0.6685 - val_accuracy: 0.7500\n",
            "\n",
            "Epoch 00006: val_loss did not improve from 0.52032\n",
            "Epoch 7/20\n",
            "6/6 [==============================] - 1s 210ms/step - loss: 0.5405 - accuracy: 0.7416 - val_loss: 0.5065 - val_accuracy: 0.8125\n",
            "\n",
            "Epoch 00007: val_loss improved from 0.52032 to 0.50647, saving model to drive/My Drive/Neural Networks/CNN Apparels/asign4_checkpoint.h5\n",
            "Epoch 8/20\n",
            "6/6 [==============================] - 1s 205ms/step - loss: 0.4544 - accuracy: 0.8371 - val_loss: 1.0215 - val_accuracy: 0.5357\n",
            "\n",
            "Epoch 00008: val_loss did not improve from 0.50647\n",
            "Epoch 9/20\n",
            "6/6 [==============================] - 1s 227ms/step - loss: 0.4684 - accuracy: 0.8034 - val_loss: 0.7158 - val_accuracy: 0.6875\n",
            "\n",
            "Epoch 00009: val_loss did not improve from 0.50647\n",
            "Epoch 10/20\n",
            "6/6 [==============================] - 1s 194ms/step - loss: 0.4163 - accuracy: 0.7978 - val_loss: 0.9145 - val_accuracy: 0.6429\n",
            "\n",
            "Epoch 00010: val_loss did not improve from 0.50647\n"
          ],
          "name": "stdout"
        }
      ]
    },
    {
      "cell_type": "markdown",
      "metadata": {
        "id": "xMMPr15evPaf",
        "colab_type": "text"
      },
      "source": [
        "Nesterov Accelerated Gradient Descent using learning rate of 0.01"
      ]
    },
    {
      "cell_type": "code",
      "metadata": {
        "id": "7WKMyqDunrsd",
        "colab_type": "code",
        "colab": {
          "base_uri": "https://localhost:8080/",
          "height": 425
        },
        "outputId": "f0fdfb46-d776-4b08-efab-7dd228a89a9a"
      },
      "source": [
        "opt=keras.optimizers.SGD(lr=0.01,nesterov=True)\n",
        "model.compile(optimizer = opt, loss = 'categorical_crossentropy', metrics = ['accuracy'])\n",
        "\n",
        "history=model.fit_generator(\n",
        "    training_set,\n",
        "    steps_per_epoch=nb_train_samples//batch_size,\n",
        "    epochs=epochs,\n",
        "    verbose=1,\n",
        "    callbacks=callbacks,\n",
        "    validation_data=test_set,\n",
        "    validation_steps=nb_validation_samples//batch_size)"
      ],
      "execution_count": 13,
      "outputs": [
        {
          "output_type": "stream",
          "text": [
            "Epoch 1/20\n",
            "6/6 [==============================] - 1s 249ms/step - loss: 0.3191 - accuracy: 0.8764 - val_loss: 0.6754 - val_accuracy: 0.7812\n",
            "\n",
            "Epoch 00001: val_loss did not improve from 0.50647\n",
            "Epoch 2/20\n",
            "6/6 [==============================] - 1s 202ms/step - loss: 0.3014 - accuracy: 0.9045 - val_loss: 0.7037 - val_accuracy: 0.6071\n",
            "\n",
            "Epoch 00002: val_loss did not improve from 0.50647\n",
            "Epoch 3/20\n",
            "6/6 [==============================] - 1s 229ms/step - loss: 0.2703 - accuracy: 0.9157 - val_loss: 0.4908 - val_accuracy: 0.7812\n",
            "\n",
            "Epoch 00003: val_loss improved from 0.50647 to 0.49078, saving model to drive/My Drive/Neural Networks/CNN Apparels/asign4_checkpoint.h5\n",
            "Epoch 4/20\n",
            "6/6 [==============================] - 1s 203ms/step - loss: 0.2859 - accuracy: 0.8876 - val_loss: 1.0334 - val_accuracy: 0.6429\n",
            "\n",
            "Epoch 00004: val_loss did not improve from 0.49078\n",
            "Epoch 5/20\n",
            "6/6 [==============================] - 1s 226ms/step - loss: 0.2740 - accuracy: 0.9115 - val_loss: 0.6525 - val_accuracy: 0.7812\n",
            "\n",
            "Epoch 00005: val_loss did not improve from 0.49078\n",
            "Epoch 6/20\n",
            "6/6 [==============================] - 1s 204ms/step - loss: 0.2947 - accuracy: 0.8933 - val_loss: 0.8206 - val_accuracy: 0.6071\n",
            "\n",
            "Epoch 00006: val_loss did not improve from 0.49078\n"
          ],
          "name": "stdout"
        }
      ]
    },
    {
      "cell_type": "markdown",
      "metadata": {
        "id": "ZDnVcm46d2xE",
        "colab_type": "text"
      },
      "source": [
        "RMSprop Optimizer"
      ]
    },
    {
      "cell_type": "code",
      "metadata": {
        "id": "iHOG6gLDn-vK",
        "colab_type": "code",
        "colab": {
          "base_uri": "https://localhost:8080/",
          "height": 765
        },
        "outputId": "a33cc8d9-ee62-4d21-89a1-b1d899054c40"
      },
      "source": [
        "opt = keras.optimizers.RMSprop(learning_rate=0.01)\n",
        "model.compile(optimizer = opt, loss = 'categorical_crossentropy', metrics = ['accuracy'])\n",
        "\n",
        "history=model.fit_generator(\n",
        "    training_set,\n",
        "    steps_per_epoch=nb_train_samples//batch_size,\n",
        "    epochs=epochs,\n",
        "    verbose=1,\n",
        "    callbacks=callbacks,\n",
        "    validation_data=test_set,\n",
        "    validation_steps=nb_validation_samples//batch_size)"
      ],
      "execution_count": 16,
      "outputs": [
        {
          "output_type": "stream",
          "text": [
            "Epoch 1/20\n",
            "6/6 [==============================] - 2s 254ms/step - loss: 5.3916 - accuracy: 0.3596 - val_loss: 1.0563 - val_accuracy: 0.4688\n",
            "\n",
            "Epoch 00001: val_loss did not improve from 0.49078\n",
            "Epoch 2/20\n",
            "6/6 [==============================] - 1s 221ms/step - loss: 1.3241 - accuracy: 0.3542 - val_loss: 1.0582 - val_accuracy: 0.5000\n",
            "\n",
            "Epoch 00002: val_loss did not improve from 0.49078\n",
            "Epoch 3/20\n",
            "6/6 [==============================] - 1s 210ms/step - loss: 1.0461 - accuracy: 0.4268 - val_loss: 1.0565 - val_accuracy: 0.3750\n",
            "\n",
            "Epoch 00003: val_loss did not improve from 0.49078\n",
            "Epoch 4/20\n",
            "6/6 [==============================] - 1s 222ms/step - loss: 1.0273 - accuracy: 0.4167 - val_loss: 1.0255 - val_accuracy: 0.3929\n",
            "\n",
            "Epoch 00004: val_loss did not improve from 0.49078\n",
            "Epoch 5/20\n",
            "6/6 [==============================] - 1s 224ms/step - loss: 1.0573 - accuracy: 0.4157 - val_loss: 0.9799 - val_accuracy: 0.4375\n",
            "\n",
            "Epoch 00005: val_loss did not improve from 0.49078\n",
            "Epoch 6/20\n",
            "6/6 [==============================] - 1s 200ms/step - loss: 0.9665 - accuracy: 0.6124 - val_loss: 0.9861 - val_accuracy: 0.4286\n",
            "\n",
            "Epoch 00006: val_loss did not improve from 0.49078\n",
            "Epoch 7/20\n",
            "6/6 [==============================] - 1s 217ms/step - loss: 1.0155 - accuracy: 0.4382 - val_loss: 0.9581 - val_accuracy: 0.4375\n",
            "\n",
            "Epoch 00007: val_loss did not improve from 0.49078\n",
            "Epoch 8/20\n",
            "6/6 [==============================] - 1s 203ms/step - loss: 0.9297 - accuracy: 0.5281 - val_loss: 0.7186 - val_accuracy: 0.7500\n",
            "\n",
            "Epoch 00008: val_loss did not improve from 0.49078\n",
            "Epoch 9/20\n",
            "6/6 [==============================] - 1s 225ms/step - loss: 1.0558 - accuracy: 0.5056 - val_loss: 1.1341 - val_accuracy: 0.4062\n",
            "\n",
            "Epoch 00009: val_loss did not improve from 0.49078\n",
            "Epoch 10/20\n",
            "6/6 [==============================] - 1s 197ms/step - loss: 1.0888 - accuracy: 0.5393 - val_loss: 1.5775 - val_accuracy: 0.5357\n",
            "\n",
            "Epoch 00010: val_loss did not improve from 0.49078\n",
            "Epoch 11/20\n",
            "6/6 [==============================] - 1s 235ms/step - loss: 1.2873 - accuracy: 0.4688 - val_loss: 0.9324 - val_accuracy: 0.4375\n",
            "\n",
            "Epoch 00011: val_loss did not improve from 0.49078\n"
          ],
          "name": "stdout"
        }
      ]
    },
    {
      "cell_type": "markdown",
      "metadata": {
        "id": "Us36NO5HewIS",
        "colab_type": "text"
      },
      "source": [
        "RMSprop with learning rate=0.1"
      ]
    },
    {
      "cell_type": "code",
      "metadata": {
        "id": "aU2bkJJq6s0i",
        "colab_type": "code",
        "colab": {
          "base_uri": "https://localhost:8080/",
          "height": 425
        },
        "outputId": "c4ccbb01-9a70-49ad-cc3e-be2137cb250e"
      },
      "source": [
        "opt = keras.optimizers.RMSprop(learning_rate=0.1)\n",
        "model.compile(optimizer = opt, loss = 'categorical_crossentropy', metrics = ['accuracy'])\n",
        "\n",
        "history=model.fit_generator(\n",
        "    training_set,\n",
        "    steps_per_epoch=nb_train_samples//batch_size,\n",
        "    epochs=epochs,\n",
        "    verbose=1,\n",
        "    callbacks=callbacks,\n",
        "    validation_data=test_set,\n",
        "    validation_steps=nb_validation_samples//batch_size)"
      ],
      "execution_count": 17,
      "outputs": [
        {
          "output_type": "stream",
          "text": [
            "Epoch 1/20\n",
            "6/6 [==============================] - 2s 254ms/step - loss: 16686.4620 - accuracy: 0.4045 - val_loss: 335.5165 - val_accuracy: 0.4062\n",
            "\n",
            "Epoch 00001: val_loss did not improve from 0.49078\n",
            "Epoch 2/20\n",
            "6/6 [==============================] - 1s 208ms/step - loss: 97.5498 - accuracy: 0.3933 - val_loss: 32.8415 - val_accuracy: 0.2500\n",
            "\n",
            "Epoch 00002: val_loss did not improve from 0.49078\n",
            "Epoch 3/20\n",
            "6/6 [==============================] - 1s 207ms/step - loss: 4.9777 - accuracy: 0.3090 - val_loss: 1.0985 - val_accuracy: 0.3438\n",
            "\n",
            "Epoch 00003: val_loss did not improve from 0.49078\n",
            "Epoch 4/20\n",
            "6/6 [==============================] - 1s 215ms/step - loss: 1.1080 - accuracy: 0.3281 - val_loss: 1.1117 - val_accuracy: 0.2500\n",
            "\n",
            "Epoch 00004: val_loss did not improve from 0.49078\n",
            "Epoch 5/20\n",
            "6/6 [==============================] - 1s 224ms/step - loss: 1.1056 - accuracy: 0.3427 - val_loss: 1.1049 - val_accuracy: 0.3125\n",
            "\n",
            "Epoch 00005: val_loss did not improve from 0.49078\n",
            "Epoch 6/20\n",
            "6/6 [==============================] - 1s 208ms/step - loss: 1.1050 - accuracy: 0.3315 - val_loss: 1.1307 - val_accuracy: 0.3214\n",
            "\n",
            "Epoch 00006: val_loss did not improve from 0.49078\n"
          ],
          "name": "stdout"
        }
      ]
    },
    {
      "cell_type": "markdown",
      "metadata": {
        "id": "Gg-od-pre5JT",
        "colab_type": "text"
      },
      "source": [
        "RMSprop with the learning rate of 0.001"
      ]
    },
    {
      "cell_type": "code",
      "metadata": {
        "id": "0TkUqwnp74jV",
        "colab_type": "code",
        "colab": {
          "base_uri": "https://localhost:8080/",
          "height": 289
        },
        "outputId": "6cf4c19c-6474-46dd-f156-583802195edb"
      },
      "source": [
        "opt = keras.optimizers.RMSprop(learning_rate=0.001)\n",
        "model.compile(optimizer = opt, loss = 'categorical_crossentropy', metrics = ['accuracy'])\n",
        "\n",
        "history=model.fit_generator(\n",
        "    training_set,\n",
        "    steps_per_epoch=nb_train_samples//batch_size,\n",
        "    epochs=epochs,\n",
        "    verbose=1,\n",
        "    callbacks=callbacks,\n",
        "    validation_data=test_set,\n",
        "    validation_steps=nb_validation_samples//batch_size)"
      ],
      "execution_count": 18,
      "outputs": [
        {
          "output_type": "stream",
          "text": [
            "Epoch 1/20\n",
            "6/6 [==============================] - 2s 268ms/step - loss: 1.0999 - accuracy: 0.3333 - val_loss: 1.0969 - val_accuracy: 0.4062\n",
            "\n",
            "Epoch 00001: val_loss did not improve from 0.49078\n",
            "Epoch 2/20\n",
            "6/6 [==============================] - 1s 209ms/step - loss: 1.0993 - accuracy: 0.3146 - val_loss: 1.0996 - val_accuracy: 0.2500\n",
            "\n",
            "Epoch 00002: val_loss did not improve from 0.49078\n",
            "Epoch 3/20\n",
            "6/6 [==============================] - 1s 216ms/step - loss: 1.0994 - accuracy: 0.3110 - val_loss: 1.0977 - val_accuracy: 0.4375\n",
            "\n",
            "Epoch 00003: val_loss did not improve from 0.49078\n",
            "Epoch 4/20\n",
            "6/6 [==============================] - 1s 223ms/step - loss: 1.0991 - accuracy: 0.2812 - val_loss: 1.0996 - val_accuracy: 0.3214\n",
            "\n",
            "Epoch 00004: val_loss did not improve from 0.49078\n"
          ],
          "name": "stdout"
        }
      ]
    },
    {
      "cell_type": "code",
      "metadata": {
        "id": "gIDZTG8P8BT8",
        "colab_type": "code",
        "colab": {
          "base_uri": "https://localhost:8080/",
          "height": 289
        },
        "outputId": "1a4f8381-aa9a-4f33-abd1-13536b6df9c8"
      },
      "source": [
        "opt = keras.optimizers.Adam(learning_rate=0.001)\n",
        "model.compile(optimizer = opt, loss = 'categorical_crossentropy', metrics = ['accuracy'])\n",
        "\n",
        "history=model.fit_generator(\n",
        "    training_set,\n",
        "    steps_per_epoch=nb_train_samples//batch_size,\n",
        "    epochs=epochs,\n",
        "    verbose=1,\n",
        "    callbacks=callbacks,\n",
        "    validation_data=test_set,\n",
        "    validation_steps=nb_validation_samples//batch_size)"
      ],
      "execution_count": 19,
      "outputs": [
        {
          "output_type": "stream",
          "text": [
            "Epoch 1/20\n",
            "6/6 [==============================] - 2s 268ms/step - loss: 1.0996 - accuracy: 0.3146 - val_loss: 1.0978 - val_accuracy: 0.3750\n",
            "\n",
            "Epoch 00001: val_loss did not improve from 0.49078\n",
            "Epoch 2/20\n",
            "6/6 [==============================] - 1s 205ms/step - loss: 1.0988 - accuracy: 0.3371 - val_loss: 1.0994 - val_accuracy: 0.2857\n",
            "\n",
            "Epoch 00002: val_loss did not improve from 0.49078\n",
            "Epoch 3/20\n",
            "6/6 [==============================] - 1s 231ms/step - loss: 1.0989 - accuracy: 0.3594 - val_loss: 1.0992 - val_accuracy: 0.3438\n",
            "\n",
            "Epoch 00003: val_loss did not improve from 0.49078\n",
            "Epoch 4/20\n",
            "6/6 [==============================] - 1s 205ms/step - loss: 1.0983 - accuracy: 0.3371 - val_loss: 1.0979 - val_accuracy: 0.3214\n",
            "\n",
            "Epoch 00004: val_loss did not improve from 0.49078\n"
          ],
          "name": "stdout"
        }
      ]
    },
    {
      "cell_type": "code",
      "metadata": {
        "id": "Y44g-Ob1iwLH",
        "colab_type": "code",
        "colab": {
          "base_uri": "https://localhost:8080/",
          "height": 289
        },
        "outputId": "fa15c6f4-3a75-4445-92a5-f36cd003df46"
      },
      "source": [
        "opt = keras.optimizers.Adam(learning_rate=0.01)\n",
        "model.compile(optimizer = opt, loss = 'categorical_crossentropy', metrics = ['accuracy'])\n",
        "\n",
        "history=model.fit_generator(\n",
        "    training_set,\n",
        "    steps_per_epoch=nb_train_samples//batch_size,\n",
        "    epochs=epochs,\n",
        "    verbose=1,\n",
        "    callbacks=callbacks,\n",
        "    validation_data=test_set,\n",
        "    validation_steps=nb_validation_samples//batch_size)"
      ],
      "execution_count": 22,
      "outputs": [
        {
          "output_type": "stream",
          "text": [
            "Epoch 1/20\n",
            "6/6 [==============================] - 2s 262ms/step - loss: 1.1021 - accuracy: 0.3483 - val_loss: 1.0911 - val_accuracy: 0.4062\n",
            "\n",
            "Epoch 00001: val_loss did not improve from 0.49078\n",
            "Epoch 2/20\n",
            "6/6 [==============================] - 1s 204ms/step - loss: 1.0983 - accuracy: 0.3539 - val_loss: 1.1116 - val_accuracy: 0.2500\n",
            "\n",
            "Epoch 00002: val_loss did not improve from 0.49078\n",
            "Epoch 3/20\n",
            "6/6 [==============================] - 1s 232ms/step - loss: 1.1018 - accuracy: 0.2865 - val_loss: 1.0915 - val_accuracy: 0.4375\n",
            "\n",
            "Epoch 00003: val_loss did not improve from 0.49078\n",
            "Epoch 4/20\n",
            "6/6 [==============================] - 1s 207ms/step - loss: 1.1020 - accuracy: 0.3258 - val_loss: 1.1059 - val_accuracy: 0.2143\n",
            "\n",
            "Epoch 00004: val_loss did not improve from 0.49078\n"
          ],
          "name": "stdout"
        }
      ]
    },
    {
      "cell_type": "code",
      "metadata": {
        "id": "xdI56pEEi6nA",
        "colab_type": "code",
        "colab": {
          "base_uri": "https://localhost:8080/",
          "height": 629
        },
        "outputId": "ed4b03d7-7c9e-487d-c1be-5b238ffc786c"
      },
      "source": [
        "opt = keras.optimizers.Adam(learning_rate=0.1)\n",
        "model.compile(optimizer = opt, loss = 'categorical_crossentropy', metrics = ['accuracy'])\n",
        "\n",
        "history=model.fit_generator(\n",
        "    training_set,\n",
        "    steps_per_epoch=nb_train_samples//batch_size,\n",
        "    epochs=epochs,\n",
        "    verbose=1,\n",
        "    callbacks=callbacks,\n",
        "    validation_data=test_set,\n",
        "    validation_steps=nb_validation_samples//batch_size)"
      ],
      "execution_count": 23,
      "outputs": [
        {
          "output_type": "stream",
          "text": [
            "Epoch 1/20\n",
            "6/6 [==============================] - 2s 268ms/step - loss: 1.1152 - accuracy: 0.3371 - val_loss: 1.1288 - val_accuracy: 0.3125\n",
            "\n",
            "Epoch 00001: val_loss did not improve from 0.49078\n",
            "Epoch 2/20\n",
            "6/6 [==============================] - 1s 207ms/step - loss: 1.1068 - accuracy: 0.3427 - val_loss: 1.1064 - val_accuracy: 0.2857\n",
            "\n",
            "Epoch 00002: val_loss did not improve from 0.49078\n",
            "Epoch 3/20\n",
            "6/6 [==============================] - 1s 214ms/step - loss: 1.1076 - accuracy: 0.3202 - val_loss: 1.1243 - val_accuracy: 0.1875\n",
            "\n",
            "Epoch 00003: val_loss did not improve from 0.49078\n",
            "Epoch 4/20\n",
            "6/6 [==============================] - 1s 205ms/step - loss: 1.1053 - accuracy: 0.3090 - val_loss: 1.1324 - val_accuracy: 0.2500\n",
            "\n",
            "Epoch 00004: val_loss did not improve from 0.49078\n",
            "Epoch 5/20\n",
            "6/6 [==============================] - 1s 228ms/step - loss: 1.1082 - accuracy: 0.3315 - val_loss: 1.1052 - val_accuracy: 0.2812\n",
            "\n",
            "Epoch 00005: val_loss did not improve from 0.49078\n",
            "Epoch 6/20\n",
            "6/6 [==============================] - 1s 195ms/step - loss: 1.1087 - accuracy: 0.3371 - val_loss: 1.0946 - val_accuracy: 0.3929\n",
            "\n",
            "Epoch 00006: val_loss did not improve from 0.49078\n",
            "Epoch 7/20\n",
            "6/6 [==============================] - 1s 233ms/step - loss: 1.1117 - accuracy: 0.3021 - val_loss: 1.1112 - val_accuracy: 0.2500\n",
            "\n",
            "Epoch 00007: val_loss did not improve from 0.49078\n",
            "Epoch 8/20\n",
            "6/6 [==============================] - 1s 211ms/step - loss: 1.1052 - accuracy: 0.3034 - val_loss: 1.1199 - val_accuracy: 0.2500\n",
            "\n",
            "Epoch 00008: val_loss did not improve from 0.49078\n",
            "Epoch 9/20\n",
            "6/6 [==============================] - 1s 223ms/step - loss: 1.1127 - accuracy: 0.2921 - val_loss: 1.1040 - val_accuracy: 0.3438\n",
            "\n",
            "Epoch 00009: val_loss did not improve from 0.49078\n"
          ],
          "name": "stdout"
        }
      ]
    },
    {
      "cell_type": "code",
      "metadata": {
        "id": "T1Qk-anajBA7",
        "colab_type": "code",
        "colab": {
          "base_uri": "https://localhost:8080/",
          "height": 493
        },
        "outputId": "becb804a-c2ff-4282-8faa-ea027f60c6f5"
      },
      "source": [
        "opt = keras.optimizers.Nadam(learning_rate=0.001)\n",
        "model.compile(optimizer = opt, loss = 'categorical_crossentropy', metrics = ['accuracy'])\n",
        "\n",
        "history=model.fit_generator(\n",
        "    training_set,\n",
        "    steps_per_epoch=nb_train_samples//batch_size,\n",
        "    epochs=epochs,\n",
        "    verbose=1,\n",
        "    callbacks=callbacks,\n",
        "    validation_data=test_set,\n",
        "    validation_steps=nb_validation_samples//batch_size)"
      ],
      "execution_count": 24,
      "outputs": [
        {
          "output_type": "stream",
          "text": [
            "Epoch 1/20\n",
            "6/6 [==============================] - 2s 268ms/step - loss: 1.1048 - accuracy: 0.3202 - val_loss: 1.0991 - val_accuracy: 0.3438\n",
            "\n",
            "Epoch 00001: val_loss did not improve from 0.49078\n",
            "Epoch 2/20\n",
            "6/6 [==============================] - 1s 209ms/step - loss: 1.1019 - accuracy: 0.3708 - val_loss: 1.1060 - val_accuracy: 0.3214\n",
            "\n",
            "Epoch 00002: val_loss did not improve from 0.49078\n",
            "Epoch 3/20\n",
            "6/6 [==============================] - 1s 235ms/step - loss: 1.1029 - accuracy: 0.3177 - val_loss: 1.1115 - val_accuracy: 0.2812\n",
            "\n",
            "Epoch 00003: val_loss did not improve from 0.49078\n",
            "Epoch 4/20\n",
            "6/6 [==============================] - 1s 200ms/step - loss: 1.1006 - accuracy: 0.3090 - val_loss: 1.0913 - val_accuracy: 0.3929\n",
            "\n",
            "Epoch 00004: val_loss did not improve from 0.49078\n",
            "Epoch 5/20\n",
            "6/6 [==============================] - 1s 228ms/step - loss: 1.1010 - accuracy: 0.3539 - val_loss: 1.0986 - val_accuracy: 0.3750\n",
            "\n",
            "Epoch 00005: val_loss did not improve from 0.49078\n",
            "Epoch 6/20\n",
            "6/6 [==============================] - 1s 206ms/step - loss: 1.1022 - accuracy: 0.3427 - val_loss: 1.1047 - val_accuracy: 0.2857\n",
            "\n",
            "Epoch 00006: val_loss did not improve from 0.49078\n",
            "Epoch 7/20\n",
            "6/6 [==============================] - 1s 213ms/step - loss: 1.1013 - accuracy: 0.3202 - val_loss: 1.0984 - val_accuracy: 0.3438\n",
            "\n",
            "Epoch 00007: val_loss did not improve from 0.49078\n"
          ],
          "name": "stdout"
        }
      ]
    },
    {
      "cell_type": "code",
      "metadata": {
        "id": "uhV3YcWEkGKS",
        "colab_type": "code",
        "colab": {
          "base_uri": "https://localhost:8080/",
          "height": 561
        },
        "outputId": "249890f9-929c-422b-b66b-2b4e78769d91"
      },
      "source": [
        "opt = keras.optimizers.Nadam(learning_rate=0.01)\n",
        "model.compile(optimizer = opt, loss = 'categorical_crossentropy', metrics = ['accuracy'])\n",
        "\n",
        "history=model.fit_generator(\n",
        "    training_set,\n",
        "    steps_per_epoch=nb_train_samples//batch_size,\n",
        "    epochs=epochs,\n",
        "    verbose=1,\n",
        "    callbacks=callbacks,\n",
        "    validation_data=test_set,\n",
        "    validation_steps=nb_validation_samples//batch_size)"
      ],
      "execution_count": 25,
      "outputs": [
        {
          "output_type": "stream",
          "text": [
            "Epoch 1/20\n",
            "6/6 [==============================] - 2s 267ms/step - loss: 1.1010 - accuracy: 0.3427 - val_loss: 1.0988 - val_accuracy: 0.3438\n",
            "\n",
            "Epoch 00001: val_loss did not improve from 0.49078\n",
            "Epoch 2/20\n",
            "6/6 [==============================] - 1s 218ms/step - loss: 1.1022 - accuracy: 0.3073 - val_loss: 1.1002 - val_accuracy: 0.3214\n",
            "\n",
            "Epoch 00002: val_loss did not improve from 0.49078\n",
            "Epoch 3/20\n",
            "6/6 [==============================] - 1s 207ms/step - loss: 1.1018 - accuracy: 0.2805 - val_loss: 1.0982 - val_accuracy: 0.3750\n",
            "\n",
            "Epoch 00003: val_loss did not improve from 0.49078\n",
            "Epoch 4/20\n",
            "6/6 [==============================] - 1s 193ms/step - loss: 1.0996 - accuracy: 0.3315 - val_loss: 1.0983 - val_accuracy: 0.3571\n",
            "\n",
            "Epoch 00004: val_loss did not improve from 0.49078\n",
            "Epoch 5/20\n",
            "6/6 [==============================] - 1s 228ms/step - loss: 1.0985 - accuracy: 0.3596 - val_loss: 1.0977 - val_accuracy: 0.3750\n",
            "\n",
            "Epoch 00005: val_loss did not improve from 0.49078\n",
            "Epoch 6/20\n",
            "6/6 [==============================] - 1s 208ms/step - loss: 1.0993 - accuracy: 0.3125 - val_loss: 1.0990 - val_accuracy: 0.2857\n",
            "\n",
            "Epoch 00006: val_loss did not improve from 0.49078\n",
            "Epoch 7/20\n",
            "6/6 [==============================] - 1s 217ms/step - loss: 1.0991 - accuracy: 0.3483 - val_loss: 1.0989 - val_accuracy: 0.3125\n",
            "\n",
            "Epoch 00007: val_loss did not improve from 0.49078\n",
            "Epoch 8/20\n",
            "6/6 [==============================] - 1s 200ms/step - loss: 1.0986 - accuracy: 0.3539 - val_loss: 1.0983 - val_accuracy: 0.3571\n",
            "\n",
            "Epoch 00008: val_loss did not improve from 0.49078\n"
          ],
          "name": "stdout"
        }
      ]
    },
    {
      "cell_type": "code",
      "metadata": {
        "id": "zGKrR-5qkPKR",
        "colab_type": "code",
        "colab": {
          "base_uri": "https://localhost:8080/",
          "height": 969
        },
        "outputId": "e2cbfca0-b2ea-43f3-b881-c90491cb33ce"
      },
      "source": [
        "opt = keras.optimizers.RMSprop(learning_rate=0.1)\n",
        "model.compile(optimizer = opt, loss = 'categorical_crossentropy', metrics = ['accuracy'])\n",
        "\n",
        "history=model.fit_generator(\n",
        "    training_set,\n",
        "    steps_per_epoch=nb_train_samples//batch_size,\n",
        "    epochs=epochs,\n",
        "    verbose=1,\n",
        "    callbacks=callbacks,\n",
        "    validation_data=test_set,\n",
        "    validation_steps=nb_validation_samples//batch_size)"
      ],
      "execution_count": 26,
      "outputs": [
        {
          "output_type": "stream",
          "text": [
            "Epoch 1/20\n",
            "6/6 [==============================] - 2s 251ms/step - loss: 1.1311 - accuracy: 0.2921 - val_loss: 1.1258 - val_accuracy: 0.2812\n",
            "\n",
            "Epoch 00001: val_loss did not improve from 0.49078\n",
            "Epoch 2/20\n",
            "6/6 [==============================] - 1s 209ms/step - loss: 1.1096 - accuracy: 0.2809 - val_loss: 1.1154 - val_accuracy: 0.2857\n",
            "\n",
            "Epoch 00002: val_loss did not improve from 0.49078\n",
            "Epoch 3/20\n",
            "6/6 [==============================] - 1s 244ms/step - loss: 1.1049 - accuracy: 0.3438 - val_loss: 1.1130 - val_accuracy: 0.3438\n",
            "\n",
            "Epoch 00003: val_loss did not improve from 0.49078\n",
            "Epoch 4/20\n",
            "6/6 [==============================] - 1s 184ms/step - loss: 1.1131 - accuracy: 0.3171 - val_loss: 1.0980 - val_accuracy: 0.3214\n",
            "\n",
            "Epoch 00004: val_loss did not improve from 0.49078\n",
            "Epoch 5/20\n",
            "6/6 [==============================] - 1s 233ms/step - loss: 1.1091 - accuracy: 0.3229 - val_loss: 1.0962 - val_accuracy: 0.3750\n",
            "\n",
            "Epoch 00005: val_loss did not improve from 0.49078\n",
            "Epoch 6/20\n",
            "6/6 [==============================] - 1s 206ms/step - loss: 1.1122 - accuracy: 0.2640 - val_loss: 1.0981 - val_accuracy: 0.3571\n",
            "\n",
            "Epoch 00006: val_loss did not improve from 0.49078\n",
            "Epoch 7/20\n",
            "6/6 [==============================] - 1s 216ms/step - loss: 1.1098 - accuracy: 0.3034 - val_loss: 1.1061 - val_accuracy: 0.2812\n",
            "\n",
            "Epoch 00007: val_loss did not improve from 0.49078\n",
            "Epoch 8/20\n",
            "6/6 [==============================] - 1s 197ms/step - loss: 1.1064 - accuracy: 0.3258 - val_loss: 1.0907 - val_accuracy: 0.3929\n",
            "\n",
            "Epoch 00008: val_loss did not improve from 0.49078\n",
            "Epoch 9/20\n",
            "6/6 [==============================] - 1s 222ms/step - loss: 1.1088 - accuracy: 0.2865 - val_loss: 1.1049 - val_accuracy: 0.3125\n",
            "\n",
            "Epoch 00009: val_loss did not improve from 0.49078\n",
            "Epoch 10/20\n",
            "6/6 [==============================] - 1s 203ms/step - loss: 1.1094 - accuracy: 0.3652 - val_loss: 1.1048 - val_accuracy: 0.2857\n",
            "\n",
            "Epoch 00010: val_loss did not improve from 0.49078\n",
            "Epoch 11/20\n",
            "6/6 [==============================] - 1s 221ms/step - loss: 1.1014 - accuracy: 0.3202 - val_loss: 1.0708 - val_accuracy: 0.4062\n",
            "\n",
            "Epoch 00011: val_loss did not improve from 0.49078\n",
            "Epoch 12/20\n",
            "6/6 [==============================] - 1s 214ms/step - loss: 1.1101 - accuracy: 0.3073 - val_loss: 1.1160 - val_accuracy: 0.2857\n",
            "\n",
            "Epoch 00012: val_loss did not improve from 0.49078\n",
            "Epoch 13/20\n",
            "6/6 [==============================] - 1s 220ms/step - loss: 1.1146 - accuracy: 0.2640 - val_loss: 1.0976 - val_accuracy: 0.3750\n",
            "\n",
            "Epoch 00013: val_loss did not improve from 0.49078\n",
            "Epoch 14/20\n",
            "6/6 [==============================] - 1s 193ms/step - loss: 1.1085 - accuracy: 0.3483 - val_loss: 1.1028 - val_accuracy: 0.3571\n",
            "\n",
            "Epoch 00014: val_loss did not improve from 0.49078\n"
          ],
          "name": "stdout"
        }
      ]
    },
    {
      "cell_type": "code",
      "metadata": {
        "id": "SJcNffk4kU4o",
        "colab_type": "code",
        "colab": {}
      },
      "source": [
        ""
      ],
      "execution_count": null,
      "outputs": []
    }
  ]
}