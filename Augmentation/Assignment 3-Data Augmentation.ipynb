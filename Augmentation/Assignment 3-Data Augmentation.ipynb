{
 "cells": [
  {
   "cell_type": "code",
   "execution_count": 1,
   "metadata": {},
   "outputs": [],
   "source": [
    "import cv2\n",
    "import os\n",
    "import numpy as np"
   ]
  },
  {
   "cell_type": "code",
   "execution_count": 2,
   "metadata": {},
   "outputs": [],
   "source": [
    "directory='C:/Users/hp/Desktop/Fliprobo/Assignments/Assignment3/training_set'\n",
    "categories=['sarees','Shirts','T-Shirts']"
   ]
  },
  {
   "cell_type": "markdown",
   "metadata": {},
   "source": [
    "## Rotation"
   ]
  },
  {
   "cell_type": "code",
   "execution_count": 5,
   "metadata": {},
   "outputs": [],
   "source": [
    "## Rotation\n",
    "\n",
    "for category in categories:\n",
    "    path=os.path.join(directory,category)\n",
    "    for img in os.listdir(path):\n",
    "        image=cv2.imread(os.path.join(path,img))\n",
    "        height,width =image.shape[:2]\n",
    "        rotation_matrix=cv2.getRotationMatrix2D((width/2,height/2),-30,0.3)\n",
    "\n",
    "        rotated_image=cv2.warpAffine(image,rotation_matrix,(width,height))\n",
    "        \n",
    "        cv2.imshow('Rotated Image',rotated_image)\n",
    "        cv2.waitKey()\n",
    "        cv2.destroyAllWindows()\n",
    "        \n",
    "        num=0\n",
    "        for i in rotated_image:\n",
    "            cv2.imwrite('C:/Users/hp/Desktop/Fliprobo/Assignments/Assignment3/Rotation/'+str(num)+\".jpeg\",i)\n",
    "            num+=1"
   ]
  },
  {
   "cell_type": "markdown",
   "metadata": {},
   "source": [
    "## Brighten"
   ]
  },
  {
   "cell_type": "code",
   "execution_count": 6,
   "metadata": {},
   "outputs": [],
   "source": [
    "#More Brightness\n",
    "\n",
    "for category in categories:\n",
    "    path=os.path.join(directory,category)\n",
    "    for img in os.listdir(path):\n",
    "        image=cv2.imread(os.path.join(path,img))\n",
    "        Variator=np.ones(image.shape,dtype = 'uint8')*70\n",
    "\n",
    "        added=cv2.add(image, Variator)\n",
    "        cv2.imshow('Added',added)\n",
    "\n",
    "        cv2.waitKey(0)\n",
    "        cv2.destroyAllWindows()\n",
    "        \n",
    "        num=0\n",
    "        for i in added:\n",
    "            cv2.imwrite('C:/Users/hp/Desktop/Fliprobo/Assignments/Assignment3/Brighten/'+str(num)+\".jpeg\",i)\n",
    "            num+=1"
   ]
  },
  {
   "cell_type": "markdown",
   "metadata": {},
   "source": [
    "## Darken"
   ]
  },
  {
   "cell_type": "code",
   "execution_count": 7,
   "metadata": {},
   "outputs": [],
   "source": [
    "#Less Brightness\n",
    "\n",
    "\n",
    "for category in categories:\n",
    "    path=os.path.join(directory,category)\n",
    "    for img in os.listdir(path):\n",
    "        image=cv2.imread(os.path.join(path,img))\n",
    "        Variator=np.ones(image.shape,dtype = 'uint8')*75\n",
    "\n",
    "        subtracted=cv2.subtract(image, Variator)\n",
    "        cv2.imshow('Subtracted',subtracted)\n",
    "\n",
    "        cv2.waitKey(0)\n",
    "        cv2.destroyAllWindows()\n",
    "        \n",
    "        num=0\n",
    "        for i in subtracted:\n",
    "            cv2.imwrite('C:/Users/hp/Desktop/Fliprobo/Assignments/Assignment3/Darken/'+str(num)+\".jpeg\",i)\n",
    "            num+=1"
   ]
  },
  {
   "cell_type": "markdown",
   "metadata": {},
   "source": [
    "## Flipping"
   ]
  },
  {
   "cell_type": "code",
   "execution_count": 8,
   "metadata": {},
   "outputs": [],
   "source": [
    "#Flip\n",
    "\n",
    "for category in categories:\n",
    "    path=os.path.join(directory,category)\n",
    "    for img in os.listdir(path):\n",
    "        image=cv2.imread(os.path.join(path,img))\n",
    "        flipped=cv2.flip(image,1)\n",
    "        cv2.imshow(\"Horizontal Flip\",flipped)\n",
    "        cv2.waitKey()\n",
    "        cv2.destroyAllWindows()\n",
    "        \n",
    "        num=0\n",
    "        for i in flipped:\n",
    "            cv2.imwrite('C:/Users/hp/Desktop/Fliprobo/Assignments/Assignment3/Flip/'+str(num)+\".jpeg\",i)\n",
    "            num+=1"
   ]
  },
  {
   "cell_type": "markdown",
   "metadata": {},
   "source": [
    "## Sharpen"
   ]
  },
  {
   "cell_type": "code",
   "execution_count": 9,
   "metadata": {},
   "outputs": [],
   "source": [
    "#Sharpening\n",
    "\n",
    "for category in categories:\n",
    "    path=os.path.join(directory,category)\n",
    "    for img in os.listdir(path):\n",
    "        image=cv2.imread(os.path.join(path,img))\n",
    "        kernel_sharpening=np.array([[-1,-1,-1],\n",
    "                                  [-1,10,-1],\n",
    "                                  [-1,-1,-1]])\n",
    "        #applying diffrent kernels to the input image\n",
    "        sharpened= cv2.filter2D(image,-1,kernel_sharpening)\n",
    "        cv2.imshow(\"Image sharpening\",sharpened)\n",
    "\n",
    "        cv2.waitKey(0)\n",
    "        cv2.destroyAllWindows()\n",
    "        \n",
    "        num=0\n",
    "        for i in sharpened:\n",
    "            cv2.imwrite('C:/Users/hp/Desktop/Fliprobo/Assignments/Assignment3/Sharpen/'+str(num)+\".jpeg\",i)\n",
    "            num+=1"
   ]
  }
 ],
 "metadata": {
  "kernelspec": {
   "display_name": "Python 3",
   "language": "python",
   "name": "python3"
  },
  "language_info": {
   "codemirror_mode": {
    "name": "ipython",
    "version": 3
   },
   "file_extension": ".py",
   "mimetype": "text/x-python",
   "name": "python",
   "nbconvert_exporter": "python",
   "pygments_lexer": "ipython3",
   "version": "3.7.7"
  }
 },
 "nbformat": 4,
 "nbformat_minor": 4
}
