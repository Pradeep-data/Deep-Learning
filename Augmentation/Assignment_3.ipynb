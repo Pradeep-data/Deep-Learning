{
  "nbformat": 4,
  "nbformat_minor": 0,
  "metadata": {
    "colab": {
      "name": "Assignment 3.ipynb",
      "provenance": []
    },
    "kernelspec": {
      "name": "python3",
      "display_name": "Python 3"
    }
  },
  "cells": [
    {
      "cell_type": "code",
      "metadata": {
        "id": "p1EcPCYeIUdD",
        "colab_type": "code",
        "colab": {}
      },
      "source": [
        ""
      ],
      "execution_count": null,
      "outputs": []
    },
    {
      "cell_type": "code",
      "metadata": {
        "id": "MTkwzoU5Ijm-",
        "colab_type": "code",
        "colab": {
          "base_uri": "https://localhost:8080/",
          "height": 122
        },
        "outputId": "eaf5c703-29a7-411d-da7b-470138d27d81"
      },
      "source": [
        "from google.colab import drive\n",
        "drive.mount('/content/drive')"
      ],
      "execution_count": 1,
      "outputs": [
        {
          "output_type": "stream",
          "text": [
            "Go to this URL in a browser: https://accounts.google.com/o/oauth2/auth?client_id=947318989803-6bn6qk8qdgf4n4g3pfee6491hc0brc4i.apps.googleusercontent.com&redirect_uri=urn%3aietf%3awg%3aoauth%3a2.0%3aoob&response_type=code&scope=email%20https%3a%2f%2fwww.googleapis.com%2fauth%2fdocs.test%20https%3a%2f%2fwww.googleapis.com%2fauth%2fdrive%20https%3a%2f%2fwww.googleapis.com%2fauth%2fdrive.photos.readonly%20https%3a%2f%2fwww.googleapis.com%2fauth%2fpeopleapi.readonly\n",
            "\n",
            "Enter your authorization code:\n",
            "··········\n",
            "Mounted at /content/drive\n"
          ],
          "name": "stdout"
        }
      ]
    },
    {
      "cell_type": "code",
      "metadata": {
        "id": "zavmVA-OIkoy",
        "colab_type": "code",
        "colab": {
          "base_uri": "https://localhost:8080/",
          "height": 34
        },
        "outputId": "105a9c06-2562-44a9-b053-fef087887756"
      },
      "source": [
        "from keras.models import Sequential\n",
        "from keras.layers import Conv2D,MaxPooling2D,Flatten,Dense"
      ],
      "execution_count": 2,
      "outputs": [
        {
          "output_type": "stream",
          "text": [
            "Using TensorFlow backend.\n"
          ],
          "name": "stderr"
        }
      ]
    },
    {
      "cell_type": "code",
      "metadata": {
        "id": "reIhnmBOI96J",
        "colab_type": "code",
        "colab": {}
      },
      "source": [
        "#implementing cnn\n",
        "model=Sequential()"
      ],
      "execution_count": 3,
      "outputs": []
    },
    {
      "cell_type": "code",
      "metadata": {
        "id": "Wngnps34JCaz",
        "colab_type": "code",
        "colab": {}
      },
      "source": [
        "#1st convolution layer\n",
        "model.add(Conv2D(32, (3, 3), input_shape = (64, 64, 3), activation = 'relu'))\n",
        "model.add(MaxPooling2D(pool_size = (2, 2)))\n",
        "\n",
        "#2nd Convolution layer\n",
        "model.add(Conv2D(32, (3, 3), activation = 'relu'))\n",
        "model.add(MaxPooling2D(pool_size = (2, 2)))\n",
        "\n",
        "##rd Convolution layer\n",
        "model.add(Conv2D(64, (3, 3), activation = 'relu'))\n",
        "model.add(MaxPooling2D(pool_size = (2, 2)))\n",
        "\n",
        "# The fourth convolution\n",
        "model.add(Conv2D(64, (3,3), activation='relu'))\n",
        "model.add(MaxPooling2D(pool_size =(2,2)))"
      ],
      "execution_count": 4,
      "outputs": []
    },
    {
      "cell_type": "code",
      "metadata": {
        "id": "_ZFVUUxkJFgY",
        "colab_type": "code",
        "colab": {}
      },
      "source": [
        "model.add(Flatten())"
      ],
      "execution_count": 5,
      "outputs": []
    },
    {
      "cell_type": "code",
      "metadata": {
        "id": "iw0cbBBoJI3W",
        "colab_type": "code",
        "colab": {}
      },
      "source": [
        "#  Full Connection\n",
        "model.add(Dense(units = 128, activation = 'relu'))\n",
        "model.add(Dense(units = 3, activation = 'softmax'))"
      ],
      "execution_count": 6,
      "outputs": []
    },
    {
      "cell_type": "code",
      "metadata": {
        "id": "a5VzYVVfJMv0",
        "colab_type": "code",
        "colab": {}
      },
      "source": [
        "#Compile\n",
        "model.compile(optimizer = 'adam', loss = 'categorical_crossentropy', metrics = ['accuracy'])"
      ],
      "execution_count": 7,
      "outputs": []
    },
    {
      "cell_type": "code",
      "metadata": {
        "id": "HoM7_alJJSnb",
        "colab_type": "code",
        "colab": {}
      },
      "source": [
        "#Fitting the CNN to the images \n",
        "from keras.preprocessing.image import ImageDataGenerator\n",
        "train_datagen = ImageDataGenerator(rescale=1./255)\n",
        "test_datagen = ImageDataGenerator(rescale=1./255)"
      ],
      "execution_count": 8,
      "outputs": []
    },
    {
      "cell_type": "code",
      "metadata": {
        "id": "iA6H_5F1Jblv",
        "colab_type": "code",
        "colab": {
          "base_uri": "https://localhost:8080/",
          "height": 51
        },
        "outputId": "df7e4ee4-4049-4583-c9cd-065a6efb7c72"
      },
      "source": [
        "training_set = train_datagen.flow_from_directory('drive/My Drive/Neural Networks/CNN Apparels/training_set',\n",
        "                                                 target_size=(64,64),\n",
        "                                                 batch_size=32,\n",
        "                                                 class_mode='categorical')\n",
        "\n",
        "test_set = test_datagen.flow_from_directory('drive/My Drive/Neural Networks/CNN Apparels/test_set',\n",
        "                                            target_size=(64,64),\n",
        "                                            batch_size=32,\n",
        "                                            class_mode='categorical')"
      ],
      "execution_count": 9,
      "outputs": [
        {
          "output_type": "stream",
          "text": [
            "Found 210 images belonging to 3 classes.\n",
            "Found 60 images belonging to 3 classes.\n"
          ],
          "name": "stdout"
        }
      ]
    },
    {
      "cell_type": "code",
      "metadata": {
        "id": "9w91ezH_Pr5W",
        "colab_type": "code",
        "colab": {}
      },
      "source": [
        "batch_size = 32  \n",
        "num_classes = 3  \n",
        "epochs = 15\n",
        "nb_train_samples=200\n",
        "nb_validation_samples=60"
      ],
      "execution_count": 24,
      "outputs": []
    },
    {
      "cell_type": "code",
      "metadata": {
        "id": "kqORgFPeJgfs",
        "colab_type": "code",
        "colab": {
          "base_uri": "https://localhost:8080/",
          "height": 527
        },
        "outputId": "a81343a7-8c32-42e9-8878-d747e8fd3ce8"
      },
      "source": [
        "history=model.fit_generator(\n",
        "    training_set,\n",
        "    steps_per_epoch=nb_train_samples//batch_size,\n",
        "    epochs=epochs,\n",
        "    verbose=1,\n",
        "    validation_data=test_set,\n",
        "    validation_steps=nb_validation_samples//batch_size)"
      ],
      "execution_count": 26,
      "outputs": [
        {
          "output_type": "stream",
          "text": [
            "Epoch 1/15\n",
            "6/6 [==============================] - 1s 224ms/step - loss: 0.2095 - accuracy: 0.9270 - val_loss: 1.0790 - val_accuracy: 0.7188\n",
            "Epoch 2/15\n",
            "6/6 [==============================] - 1s 216ms/step - loss: 0.1708 - accuracy: 0.9427 - val_loss: 0.6096 - val_accuracy: 0.7500\n",
            "Epoch 3/15\n",
            "6/6 [==============================] - 1s 205ms/step - loss: 0.1871 - accuracy: 0.9268 - val_loss: 0.5988 - val_accuracy: 0.7812\n",
            "Epoch 4/15\n",
            "6/6 [==============================] - 1s 199ms/step - loss: 0.1728 - accuracy: 0.9382 - val_loss: 1.1593 - val_accuracy: 0.6786\n",
            "Epoch 5/15\n",
            "6/6 [==============================] - 1s 212ms/step - loss: 0.1365 - accuracy: 0.9607 - val_loss: 1.0481 - val_accuracy: 0.6250\n",
            "Epoch 6/15\n",
            "6/6 [==============================] - 1s 209ms/step - loss: 0.2101 - accuracy: 0.9167 - val_loss: 1.2853 - val_accuracy: 0.7143\n",
            "Epoch 7/15\n",
            "6/6 [==============================] - 1s 204ms/step - loss: 0.1927 - accuracy: 0.9157 - val_loss: 0.9964 - val_accuracy: 0.6562\n",
            "Epoch 8/15\n",
            "6/6 [==============================] - 1s 194ms/step - loss: 0.1452 - accuracy: 0.9607 - val_loss: 0.7829 - val_accuracy: 0.6786\n",
            "Epoch 9/15\n",
            "6/6 [==============================] - 1s 230ms/step - loss: 0.1649 - accuracy: 0.9167 - val_loss: 0.8797 - val_accuracy: 0.6562\n",
            "Epoch 10/15\n",
            "6/6 [==============================] - 1s 194ms/step - loss: 0.0893 - accuracy: 0.9831 - val_loss: 0.9588 - val_accuracy: 0.7500\n",
            "Epoch 11/15\n",
            "6/6 [==============================] - 1s 209ms/step - loss: 0.1025 - accuracy: 0.9719 - val_loss: 1.2129 - val_accuracy: 0.6562\n",
            "Epoch 12/15\n",
            "6/6 [==============================] - 1s 197ms/step - loss: 0.0740 - accuracy: 0.9831 - val_loss: 0.8919 - val_accuracy: 0.8571\n",
            "Epoch 13/15\n",
            "6/6 [==============================] - 1s 211ms/step - loss: 0.0532 - accuracy: 0.9944 - val_loss: 1.0053 - val_accuracy: 0.7812\n",
            "Epoch 14/15\n",
            "6/6 [==============================] - 1s 185ms/step - loss: 0.0467 - accuracy: 0.9888 - val_loss: 0.9919 - val_accuracy: 0.6786\n",
            "Epoch 15/15\n",
            "6/6 [==============================] - 1s 221ms/step - loss: 0.0689 - accuracy: 0.9663 - val_loss: 1.2040 - val_accuracy: 0.7188\n"
          ],
          "name": "stdout"
        }
      ]
    },
    {
      "cell_type": "code",
      "metadata": {
        "id": "b-cpUYjhM3z0",
        "colab_type": "code",
        "colab": {}
      },
      "source": [
        "import numpy as np\n",
        "from keras.preprocessing import image\n",
        "test_image = image.load_img('drive/My Drive/Neural Networks/CNN Apparels/Prediction/img_16.jpeg', target_size=(64, 64))\n",
        "test_image = image.img_to_array(test_image)\n",
        "test_image = np.expand_dims(test_image, axis = 0)\n",
        "result = model.predict(test_image)"
      ],
      "execution_count": 37,
      "outputs": []
    },
    {
      "cell_type": "code",
      "metadata": {
        "id": "Pd35EQqhMnB0",
        "colab_type": "code",
        "colab": {
          "base_uri": "https://localhost:8080/",
          "height": 34
        },
        "outputId": "15be71fd-4880-499b-e196-2179c22ea6b3"
      },
      "source": [
        "result"
      ],
      "execution_count": 38,
      "outputs": [
        {
          "output_type": "execute_result",
          "data": {
            "text/plain": [
              "array([[0., 1., 0.]], dtype=float32)"
            ]
          },
          "metadata": {
            "tags": []
          },
          "execution_count": 38
        }
      ]
    },
    {
      "cell_type": "code",
      "metadata": {
        "id": "TWNUvrYUN7wD",
        "colab_type": "code",
        "colab": {}
      },
      "source": [
        ""
      ],
      "execution_count": null,
      "outputs": []
    }
  ]
}